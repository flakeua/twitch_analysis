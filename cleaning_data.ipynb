{
 "cells": [
  {
   "cell_type": "code",
   "execution_count": 47,
   "metadata": {},
   "outputs": [],
   "source": [
    "import pandas as pd"
   ]
  },
  {
   "cell_type": "code",
   "execution_count": 48,
   "metadata": {},
   "outputs": [],
   "source": [
    "# get data \n",
    "df = pd.read_csv('data/scraped_data.csv', index_col=0)"
   ]
  },
  {
   "cell_type": "code",
   "execution_count": 49,
   "metadata": {},
   "outputs": [],
   "source": [
    "# delete id, user_name, game_id, type, thumbnail, started_at\n",
    "df.drop(['id', 'user_name', 'game_id', 'type', 'thumbnail_url', 'started_at'], axis=1, inplace=True)"
   ]
  },
  {
   "cell_type": "code",
   "execution_count": 50,
   "metadata": {},
   "outputs": [
    {
     "name": "stdout",
     "output_type": "stream",
     "text": [
      "<class 'pandas.core.frame.DataFrame'>\n",
      "Int64Index: 10013 entries, 0 to 10068\n",
      "Data columns (total 7 columns):\n",
      " #   Column        Non-Null Count  Dtype \n",
      "---  ------        --------------  ----- \n",
      " 0   user_id       10013 non-null  int64 \n",
      " 1   user_login    10013 non-null  object\n",
      " 2   game_name     9869 non-null   object\n",
      " 3   title         9944 non-null   object\n",
      " 4   viewer_count  10013 non-null  int64 \n",
      " 5   language      10013 non-null  object\n",
      " 6   is_mature     10013 non-null  bool  \n",
      "dtypes: bool(1), int64(2), object(4)\n",
      "memory usage: 557.4+ KB\n"
     ]
    }
   ],
   "source": [
    "# drop duplicates\n",
    "df.drop_duplicates(inplace=True)\n",
    "df.info()"
   ]
  },
  {
   "cell_type": "code",
   "execution_count": 51,
   "metadata": {},
   "outputs": [
    {
     "name": "stdout",
     "output_type": "stream",
     "text": [
      "<class 'pandas.core.frame.DataFrame'>\n",
      "Int64Index: 9864 entries, 0 to 10068\n",
      "Data columns (total 7 columns):\n",
      " #   Column        Non-Null Count  Dtype \n",
      "---  ------        --------------  ----- \n",
      " 0   user_id       9864 non-null   int64 \n",
      " 1   user_login    9864 non-null   object\n",
      " 2   game_name     9864 non-null   object\n",
      " 3   title         9864 non-null   object\n",
      " 4   viewer_count  9864 non-null   int64 \n",
      " 5   language      9864 non-null   object\n",
      " 6   is_mature     9864 non-null   bool  \n",
      "dtypes: bool(1), int64(2), object(4)\n",
      "memory usage: 549.1+ KB\n"
     ]
    }
   ],
   "source": [
    "# drop null rows\n",
    "df = df.dropna()\n",
    "df.info()\n"
   ]
  },
  {
   "cell_type": "code",
   "execution_count": 52,
   "metadata": {},
   "outputs": [],
   "source": [
    "# export clean data\n",
    "df.to_csv('data/clean_data.csv')"
   ]
  }
 ],
 "metadata": {
  "interpreter": {
   "hash": "074a2ac5b291807d68b09c6e3cda7c918e52229403e0d9b5311c037291b01e2c"
  },
  "kernelspec": {
   "display_name": "Python 3.8.12 ('AI')",
   "language": "python",
   "name": "python3"
  },
  "language_info": {
   "codemirror_mode": {
    "name": "ipython",
    "version": 3
   },
   "file_extension": ".py",
   "mimetype": "text/x-python",
   "name": "python",
   "nbconvert_exporter": "python",
   "pygments_lexer": "ipython3",
   "version": "3.8.12"
  },
  "orig_nbformat": 4
 },
 "nbformat": 4,
 "nbformat_minor": 2
}
