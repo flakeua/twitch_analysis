{
 "cells": [
  {
   "cell_type": "code",
   "execution_count": null,
   "metadata": {},
   "outputs": [],
   "source": [
    "import http.client\n",
    "import pandas as pd\n",
    "import json\n"
   ]
  },
  {
   "cell_type": "code",
   "execution_count": null,
   "metadata": {},
   "outputs": [],
   "source": [
    "# getting first page\n",
    "conn = http.client.HTTPSConnection(\"api.twitch.tv\")\n",
    "payload = ''\n",
    "with open('tokens')as f:\n",
    "    client_id = f.readline().strip();\n",
    "    authorization = f.readline().strip();\n",
    "    \n",
    "headers = {\n",
    "    'Client-Id': client_id,\n",
    "    'Authorization': f'Bearer {authorization}',\n",
    "}\n"
   ]
  },
  {
   "cell_type": "code",
   "execution_count": null,
   "metadata": {},
   "outputs": [],
   "source": [
    "conn.request(\"GET\", \"/helix/streams?first=100\", payload, headers)\n",
    "res = conn.getresponse()\n",
    "data = res.read()\n",
    "json_ = data.decode(\"utf-8\")\n",
    "json_ = json.loads(json_)"
   ]
  },
  {
   "cell_type": "code",
   "execution_count": null,
   "metadata": {},
   "outputs": [],
   "source": [
    "data_list = json_['data']\n",
    "pagination = json_['pagination']['cursor']"
   ]
  },
  {
   "cell_type": "code",
   "execution_count": null,
   "metadata": {},
   "outputs": [],
   "source": [
    "# getting 100 pages\n",
    "for i in range(100):\n",
    "    conn.request(\"GET\", f\"/helix/streams?first=100&after={pagination}\", payload, headers)\n",
    "    res = conn.getresponse()\n",
    "    data = res.read()\n",
    "    json_ = data.decode(\"utf-8\")\n",
    "    json_ = json.loads(json_)\n",
    "    data_list.extend(json_['data'])\n",
    "    pagination = json_['pagination']['cursor']"
   ]
  },
  {
   "cell_type": "code",
   "execution_count": null,
   "metadata": {},
   "outputs": [],
   "source": [
    "# saving json list of data\n",
    "with open('data/json_list.json', 'w') as f:\n",
    "    json.dump(data_list, f)"
   ]
  },
  {
   "cell_type": "code",
   "execution_count": null,
   "metadata": {},
   "outputs": [],
   "source": [
    "# loading json list of data\n",
    "with open('data/json_list.json') as f:\n",
    "    data_list = json.load(f)\n"
   ]
  },
  {
   "cell_type": "code",
   "execution_count": null,
   "metadata": {},
   "outputs": [],
   "source": [
    "# poping tag ids which are nested, so that ruins df\n",
    "[i.pop('tag_ids') for i in data_list]\n"
   ]
  },
  {
   "cell_type": "code",
   "execution_count": 19,
   "metadata": {},
   "outputs": [],
   "source": [
    "\n",
    "# saving dataframe\n",
    "df = pd.DataFrame.from_records(data_list)\n",
    "df.to_csv('data/sraped_data.csv')"
   ]
  }
 ],
 "metadata": {
  "interpreter": {
   "hash": "074a2ac5b291807d68b09c6e3cda7c918e52229403e0d9b5311c037291b01e2c"
  },
  "kernelspec": {
   "display_name": "Python 3.8.12 ('AI')",
   "language": "python",
   "name": "python3"
  },
  "language_info": {
   "codemirror_mode": {
    "name": "ipython",
    "version": 3
   },
   "file_extension": ".py",
   "mimetype": "text/x-python",
   "name": "python",
   "nbconvert_exporter": "python",
   "pygments_lexer": "ipython3",
   "version": "3.8.12"
  },
  "orig_nbformat": 4
 },
 "nbformat": 4,
 "nbformat_minor": 2
}
